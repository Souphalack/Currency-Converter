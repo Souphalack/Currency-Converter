{
  "nbformat": 4,
  "nbformat_minor": 0,
  "metadata": {
    "colab": {
      "provenance": [],
      "authorship_tag": "ABX9TyN13WhD3szFGDBMarKgK/0u",
      "include_colab_link": true
    },
    "kernelspec": {
      "name": "python3",
      "display_name": "Python 3"
    },
    "language_info": {
      "name": "python"
    }
  },
  "cells": [
    {
      "cell_type": "markdown",
      "metadata": {
        "id": "view-in-github",
        "colab_type": "text"
      },
      "source": [
        "<a href=\"https://colab.research.google.com/github/Souphalack/Currency-Converter/blob/main/Currency_Converter_update_Aug_23_.ipynb\" target=\"_parent\"><img src=\"https://colab.research.google.com/assets/colab-badge.svg\" alt=\"Open In Colab\"/></a>"
      ]
    },
    {
      "cell_type": "markdown",
      "source": [
        "\n",
        "\n",
        "#  Develop an algorithm and Convert it to Python\n",
        "\n",
        "* Promt user: Which currency you would like to convert: 1. USD - AUD or 2. YEN - AUD\n",
        "* Get the answer from user and store into a variable\n",
        "* Verify what the user typed\n",
        "\n",
        "* If the user type 1\n",
        "\n",
        "  Prompt the user the amount of USD they want to convert\n",
        "\n",
        "  Store what the user typed into a variable\n",
        "\n",
        "  AUD = USD amount * 1.38\n",
        "\n",
        "  Output amount to user\n",
        "  \n",
        "  run do again ()\n",
        "\n",
        "\n",
        "* If the user type 2\n",
        "    \n",
        "  Prompt the user the amount of YEN they want to convert\n",
        "\n",
        "  Store what the user typed into a variable\n",
        "\n",
        "  AUD = YEN amount * 1.38\n",
        "\n",
        "  Output amount to user\n",
        "\n",
        "  run do again ()\n",
        "\n",
        "* If the User Typed anything else\n",
        "\n",
        "  Tell the user what they did wrong\n",
        "\n",
        "  Run the scriipt again ()\n",
        "\n",
        "* Ask The user if want to do again\n",
        "\n",
        "  If choice 1\n",
        "\n",
        "  If choice 2"
      ],
      "metadata": {
        "id": "V7uZdcXp6Mzx"
      }
    },
    {
      "cell_type": "code",
      "source": [
        "# Currency Converter program\n",
        "!pip -q install install PyInputPlus\n",
        "import pyinputplus as pyip\n",
        "\n",
        "def currency_converter():\n",
        "  ''' This programe will convert American dollars or Japanese Yen to Australian dollars. It allows the user\n",
        "to choose a currency, value and display its value in AUD.\n",
        "  '''\n",
        "  # Prompt user: Which currency you would like to convert: 1. USD - AUD or 2. YEN - AUD\n",
        "  # Get the answer from user and store into a variable\n",
        "  user_choice = input('What currency would you like to convert? \\n 1. USD to AUD \\n 2. YEN to AUD\\n')\n",
        "\n",
        "  # If the user type 1\n",
        "  if user_choice == \"1\":\n",
        "    # Store what the user typed into a variable\n",
        "    # Prompt the user the amount of USD they want to convert\n",
        "    user_usd = float(input (\"Enter the amount in USD you wish to convert \\n\"))\n",
        "\n",
        "\n",
        "    # AUD = USD amount * 1.38\n",
        "    aud = round(user_usd * float(1.38), 2)\n",
        "    # Output amount to user\n",
        "    print(f\"USD ${user_usd} = AUD ${aud:.2f}\") # Stack Overflow, Retrive from: https://stackoverflow.com/questions/455612/limiting-floats-to-two-decimal-points\n",
        "    print(\" \")\n",
        "    do_again()\n",
        "\n",
        "    # If the user type 2\n",
        "  elif user_choice == \"2\":\n",
        "    # Store what the user typed into a variable\n",
        "    # Prompt the user the amount of YEN they want to convert\n",
        "    user_yen = float(input (\"Enter the amount in YEN you wish to convert \\n\"))\n",
        "\n",
        "    # AUD = YEN amount * 0.010\n",
        "    aud = round(user_yen * float(0.010), 2)\n",
        "    # Output amount to user\n",
        "    print(f\"YEN {user_yen} = AUD ${aud:.2f}\")\n",
        "    print(\" \")\n",
        "    do_again()\n",
        "\n",
        "  # If the User Typed anything else\n",
        "  else:\n",
        "    # Tell the user what they did wrong\n",
        "    print(\"Error: You entered the invalid information. Please try again \")\n",
        "    print(\"--------------------------------------------------\")\n",
        "  # Run the scriipt again\n",
        "    currency_converter()\n",
        "\n",
        "def do_again():\n",
        "  # Prompt the user if they would like to run the currency converter again\n",
        "  user_do_again = input(\"Would you like to convert again?\\n y \\n n \\n\")\n",
        "  print(\"--------------------------------------------------\")\n",
        "\n",
        "  # Check what the user typed\n",
        "  # If choice 1\n",
        "  if user_do_again == \"y\":\n",
        "    currency_converter()\n",
        "  # If choice 2\n",
        "  elif user_do_again == \"n\":\n",
        "    print (\"Thank you for using the Currency Conveter\")\n",
        "\n",
        "  # If choice was anything else\n",
        "  else:\n",
        "    print (\"Error You entered the invalid information. Please try again\")\n",
        "    do_again()\n",
        "  print(\"-----------------------------------------------------\")\n",
        "\n",
        "\n",
        "#Call a function\n",
        "currency_converter()"
      ],
      "metadata": {
        "id": "X4_rnvvXimrc",
        "colab": {
          "base_uri": "https://localhost:8080/"
        },
        "outputId": "a5f5560c-8572-4424-cbce-9bf67594ff77"
      },
      "execution_count": null,
      "outputs": [
        {
          "output_type": "stream",
          "name": "stdout",
          "text": [
            "What currency would you like to convert? \n",
            " 1. USD to AUD \n",
            " 2. YEN to AUD\n",
            "1\n",
            "Enter the amount in USD you wish to convert \n",
            "950\n",
            "USD $950.0 = AUD $1311.00\n",
            " \n",
            "Would you like to convert again?\n",
            " y \n",
            " n \n",
            "y\n",
            "--------------------------------------------------\n",
            "What currency would you like to convert? \n",
            " 1. USD to AUD \n",
            " 2. YEN to AUD\n",
            "2\n",
            "Enter the amount in YEN you wish to convert \n",
            "89500.50\n",
            "YEN 89500.5 = AUD $895.00\n",
            " \n",
            "Would you like to convert again?\n",
            " y \n",
            " n \n",
            "i\n",
            "--------------------------------------------------\n",
            "Error You entered the invalid information. Please try again\n",
            "Would you like to convert again?\n",
            " y \n",
            " n \n",
            "y\n",
            "--------------------------------------------------\n",
            "What currency would you like to convert? \n",
            " 1. USD to AUD \n",
            " 2. YEN to AUD\n",
            "1\n",
            "Enter the amount in USD you wish to convert \n",
            "755.50\n",
            "USD $755.5 = AUD $1042.59\n",
            " \n",
            "Would you like to convert again?\n",
            " y \n",
            " n \n",
            "n\n",
            "--------------------------------------------------\n",
            "Thank you for using the Currency Conveter\n",
            "-----------------------------------------------------\n",
            "-----------------------------------------------------\n",
            "-----------------------------------------------------\n",
            "-----------------------------------------------------\n"
          ]
        }
      ]
    },
    {
      "cell_type": "markdown",
      "source": [
        "#  Test Solution with a variety of data\n",
        "I have run and tested all functions in the currency converter. It appears to work as expected when the user inputs a whole number with or without decimal point. However, the program cannot handle different data types like strings and fractions. I probably can also use isNumber to prompt the users if they input something that is not a number.\n",
        "\n"
      ],
      "metadata": {
        "id": "TqjTyeLR9Y3u"
      }
    },
    {
      "cell_type": "markdown",
      "source": [
        "# References\n",
        "Stack Overflow, Retrive from: https://stackoverflow.com/questions/455612/limiting-floats-to-two-decimal-points"
      ],
      "metadata": {
        "id": "_PgYf16M-BGX"
      }
    }
  ]
}